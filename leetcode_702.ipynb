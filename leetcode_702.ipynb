{ 
 "cells": [
  { 
   "cell_type": "markdown",
   "metadata": {},
   "source": [
    "704. Binary Search\n",
    "\n",
    "Given an array of integers nums which is sorted in ascending order, and an integer target, write a function to search target in nums. If target exists, then return its index. Otherwise, return -1.\n",
    "\n",
    "You must write an algorithm with O(log n) runtime complexity.\n",
    "\n",
    "- Example 1:\n",
    "\n",
    "    Input: nums = [-1,0,3,5,9,12], target = 9\n",
    "\n",
    "    Output: 4\n",
    "\n",
    "    Explanation: 9 exists in nums and its index is 4\n",
    "\n",
    "- Example 2:\n",
    "\n",
    "    Input: nums = [-1,0,3,5,9,12], target = 2\n",
    "\n",
    "    Output: -1\n",
    "\n",
    "    Explanation: 2 does not exist in nums so return -1\n",
    " \n",
    "\n",
    "- Constraints:\n",
    "\n",
    "    1 <= nums.length <= 104\n",
    "\n",
    "    -104 < nums[i], target < 104\n",
    "\n",
    "    All the integers in nums are unique.\n",
    "\n",
    "    nums is sorted in ascending order."
   ]
  },
  {
   "cell_type": "code",
   "execution_count": 1,
   "metadata": {},
   "outputs": [],
   "source": [
    "class Solution:\n",
    "    def search(self, nums, target: int) -> int:\n",
    "        left = 0\n",
    "        right = len(nums) - 1\n",
    "        while left <= right:\n",
    "            pivot = (left + right) // 2\n",
    "            if nums[pivot] == target:\n",
    "                return pivot\n",
    "            elif nums[pivot] < target:\n",
    "                left = pivot + 1\n",
    "            else:\n",
    "                right = pivot - 1\n",
    "        return -1"
   ]
  },
  {
   "cell_type": "code",
   "execution_count": 2,
   "metadata": {},
   "outputs": [
    {
     "data": {
      "text/plain": [
       "4"
      ]
     },
     "execution_count": 2,
     "metadata": {},
     "output_type": "execute_result"
    }
   ],
   "source": [
    "Solution.search(0, [-1,0,3,5,9,12], 9)"
   ]
  }
 ],
 "metadata": {
  "interpreter": {
   "hash": "8bea183450d7cf8a2b3c53154ad8f0f125116e7c7c1dc9990ddd4f03ccd47efe"
  },
  "kernelspec": {
   "display_name": "Python 3.8.13 ('workspace')",
   "language": "python",
   "name": "python3"
  },
  "language_info": {
   "codemirror_mode": {
    "name": "ipython",
    "version": 3
   },
   "file_extension": ".py",
   "mimetype": "text/x-python",
   "name": "python",
   "nbconvert_exporter": "python",
   "pygments_lexer": "ipython3",
   "version": "3.8.13"
  },
  "orig_nbformat": 4
 },
 "nbformat": 4,
 "nbformat_minor": 2
}
