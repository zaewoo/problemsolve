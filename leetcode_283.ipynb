{
 "cells": [ 
  {
   "cell_type": "markdown",
   "metadata": {},
   "source": [
    "283. Move Zeroes\n",
    "\n",
    "Given an integer array nums, move all 0's to the end of it while maintaining the relative order of the non-zero elements.\n",
    "\n",
    "Note that you must do this in-place without making a copy of the array.\n",
    "\n",
    "- Example 1:\n",
    "\n",
    "    Input: nums = [0,1,0,3,12]\n",
    "\n",
    "    Output: [1,3,12,0,0]\n",
    "\n",
    "- Example 2:\n",
    "\n",
    "    Input: nums = [0]\n",
    "\n",
    "    Output: [0]\n",
    " \n",
    "\n",
    "- Constraints:\n",
    "\n",
    "    1 <= nums.length <= 104\n",
    "\n",
    "    -231 <= nums[i] <= 231 - 1\n"
   ]
  },
  {
   "cell_type": "code",
   "execution_count": 21,
   "metadata": {},
   "outputs": [],
   "source": [
    "from typing import List  \n",
    "\n",
    "class Solution:\n",
    "    def moveZeroes(self, nums: List[int]) -> None:\n",
    "        \"\"\"\n",
    "        Do not return anything, modify nums in-place instead.\n",
    "        \"\"\"\n",
    "        writeIdx = 0\n",
    "        for readIdx in range(len(nums)):\n",
    "            if nums[readIdx] != 0:\n",
    "                nums[writeIdx], nums[readIdx] = nums[readIdx], nums[writeIdx]\n",
    "                writeIdx += 1\n",
    "            else:\n",
    "                readIdx += 1\n",
    "        return nums"
   ]
  },
  {
   "cell_type": "code",
   "execution_count": 23,
   "metadata": {},
   "outputs": [
    {
     "data": {
      "text/plain": [
       "[1, 3, 12, 0, 0]"
      ]
     },
     "execution_count": 23,
     "metadata": {},
     "output_type": "execute_result"
    }
   ],
   "source": [
    "Solution.moveZeroes(0, [0,1,0,3,12])"
   ]
  }
 ],
 "metadata": {
  "interpreter": {
   "hash": "8bea183450d7cf8a2b3c53154ad8f0f125116e7c7c1dc9990ddd4f03ccd47efe"
  },
  "kernelspec": {
   "display_name": "Python 3.8.13 ('workspace')",
   "language": "python",
   "name": "python3"
  },
  "language_info": {
   "codemirror_mode": {
    "name": "ipython",
    "version": 3
   },
   "file_extension": ".py",
   "mimetype": "text/x-python",
   "name": "python",
   "nbconvert_exporter": "python",
   "pygments_lexer": "ipython3",
   "version": "3.8.13"
  },
  "orig_nbformat": 4
 },
 "nbformat": 4,
 "nbformat_minor": 2
} 
